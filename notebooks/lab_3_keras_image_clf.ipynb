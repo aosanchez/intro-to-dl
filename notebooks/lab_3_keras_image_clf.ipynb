{
 "cells": [
  {
   "cell_type": "markdown",
   "metadata": {},
   "source": [
    "# Image Classification with Keras\n",
    "\n",
    "**XBUS-512: Introduction to AI and Deep Learning**\n",
    "\n",
    "In this exercise, we will see how to build a image classifier with Keras.\n",
    "\n",
    "We will be using the [CIFAR-10 dataset](http://www.cs.toronto.edu/~kriz/cifar.html), which consists of 60000 32x32 colour images in 10 classes, with 6000 images per class. There are 50000 training images and 10000 test images.\n",
    "\n",
    "The dataset is divided into five training batches and one test batch, each with 10000 images. The test batch contains exactly 1000 randomly-selected images from each class. The training batches contain the remaining images in random order, but some training batches may contain more images from one class than another. Between them, the training batches contain exactly 5000 images from each class.\n"
   ]
  },
  {
   "cell_type": "markdown",
   "metadata": {},
   "source": [
    "## Imports"
   ]
  },
  {
   "cell_type": "code",
   "execution_count": 19,
   "metadata": {},
   "outputs": [],
   "source": [
    "import os\n",
    "import pickle\n",
    "import tarfile\n",
    "import requests"
   ]
  },
  {
   "cell_type": "markdown",
   "metadata": {},
   "source": [
    "## Download and Wrangle the Data"
   ]
  },
  {
   "cell_type": "code",
   "execution_count": 16,
   "metadata": {},
   "outputs": [],
   "source": [
    "def fetch_data(url, fname):\n",
    "    \"\"\"\n",
    "    Helper method to retreive the data from the UCI ML Repository.\n",
    "    \"\"\"\n",
    "    response = requests.get(url)\n",
    "    outpath  = os.path.abspath(fname)\n",
    "    with open(outpath, \"wb\") as f:\n",
    "        f.write(response.content)\n",
    "    \n",
    "    return outpath"
   ]
  },
  {
   "cell_type": "code",
   "execution_count": 23,
   "metadata": {},
   "outputs": [],
   "source": [
    "# Fetch and unzip the data\n",
    "\n",
    "URL = \"http://www.cs.toronto.edu/~kriz/cifar-10-python.tar.gz\"\n",
    "TARRED_FILE_PATH = \"cifar-10-python.tar.gz\"\n",
    "UNTARRED_DIR = \"cifar-10-python\"\n",
    "if not os.path.exists(os.path.join(\"../fixtures\", UNTARRED_DIR)):\n",
    "    os.makedirs(os.path.join(\"..\", \"fixtures\", UNTARRED_DIR))\n",
    "\n",
    "tarred_files = fetch_data(URL, os.path.join(\"..\", \"fixtures\", TARRED_FILE_PATH))"
   ]
  },
  {
   "cell_type": "code",
   "execution_count": 25,
   "metadata": {},
   "outputs": [],
   "source": [
    "tar = tarfile.open(tarred_files)\n",
    "tar.extractall(path=os.path.join(\"..\", \"fixtures\", UNTARRED_DIR))\n",
    "tar.close()"
   ]
  },
  {
   "cell_type": "markdown",
   "metadata": {},
   "source": [
    "The archive `cifar-10-python` contains the files `data_batch_1`, `data_batch_2`, ..., `data_batch_5`, as well as `test_batch`. \n",
    "Each of these files is a Python \"pickled\" object produced with cPickle, so they have to be unpickled to be read as dictionary objects. "
   ]
  },
  {
   "cell_type": "code",
   "execution_count": 26,
   "metadata": {},
   "outputs": [],
   "source": [
    "def unpickle(file):\n",
    "    with open(file, \"rb\") as fo:\n",
    "        return pickle.load(fo, encoding=\"bytes\")"
   ]
  },
  {
   "cell_type": "code",
   "execution_count": 43,
   "metadata": {},
   "outputs": [],
   "source": [
    "train = unpickle(os.path.join(\n",
    "    \"..\", \n",
    "    \"fixtures\", \n",
    "    UNTARRED_DIR, \n",
    "    \"cifar-10-batches-py\",\n",
    "    \"data_batch_1\"\n",
    "))\n",
    "\n",
    "test = unpickle(os.path.join(\n",
    "    \"..\", \n",
    "    \"fixtures\", \n",
    "    UNTARRED_DIR, \n",
    "    \"cifar-10-batches-py\",\n",
    "    \"test_batch\"\n",
    "))\n",
    "\n",
    "X_train = train[b'data']\n",
    "y_train = train[b'labels']\n",
    "\n",
    "X_test = test[b'data']\n",
    "y_test = test[b'labels']"
   ]
  },
  {
   "cell_type": "code",
   "execution_count": null,
   "metadata": {},
   "outputs": [],
   "source": []
  }
 ],
 "metadata": {
  "kernelspec": {
   "display_name": "Python 3",
   "language": "python",
   "name": "python3"
  },
  "language_info": {
   "codemirror_mode": {
    "name": "ipython",
    "version": 3
   },
   "file_extension": ".py",
   "mimetype": "text/x-python",
   "name": "python",
   "nbconvert_exporter": "python",
   "pygments_lexer": "ipython3",
   "version": "3.6.5"
  }
 },
 "nbformat": 4,
 "nbformat_minor": 2
}
